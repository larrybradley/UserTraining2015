{
 "cells": [
  {
   "cell_type": "markdown",
   "metadata": {},
   "source": [
    "## Abstract"
   ]
  },
  {
   "cell_type": "markdown",
   "metadata": {},
   "source": [
    "Introduction to spectral analysis: Results of the first JWST Data Analysis Sprint.\n",
    "\n",
    "This is an early start on formalizing the toolset needed for spectral analysis, leveraging both the interativity of the python shell and the integration of the Qt toolset within python."
   ]
  },
  {
   "cell_type": "markdown",
   "metadata": {},
   "source": [
    "## Environment"
   ]
  },
  {
   "cell_type": "markdown",
   "metadata": {},
   "source": [
    "To use the standalone app:"
   ]
  },
  {
   "cell_type": "code",
   "execution_count": 1,
   "metadata": {
    "collapsed": false
   },
   "outputs": [
    {
     "name": "stdout",
     "output_type": "stream",
     "text": [
      "Starting job # 0 in a separate thread.\n"
     ]
    }
   ],
   "source": [
    "%%bash --bg\n",
    "sview"
   ]
  },
  {
   "cell_type": "markdown",
   "metadata": {},
   "source": [
    "Initial screen will look like:\n",
    "\n",
    "<img src='spectral_analysis_mm/initial_screen.png' />\n",
    "\n",
    "Components:\n",
    "* Workspace\n",
    "* Data manager\n",
    "* There will be more momentarily"
   ]
  },
  {
   "cell_type": "markdown",
   "metadata": {},
   "source": [
    "## Reading Files\n",
    "### The dialogs\n",
    "<img src='spectral_analysis_mm/open_file_menu.png' />\n",
    "<img src='spectral_analysis_mm/open_file_dialog.png' />\n",
    "<img src='spectral_analysis_mm/open_file_fits_dialog.png' />\n",
    "<img src='spectral_analysis_mm/open_file_fits_dialog_column.png' />\n",
    "\n",
    "### The Data Dock\n",
    "<img src='spectral_analysis_mm/data_dock.png' />\n",
    "<img src='spectral_analysis_mm/data_dock_create_plot.png'/>\n",
    "<img src='spectral_analysis_mm/plot.png' />"
   ]
  },
  {
   "cell_type": "markdown",
   "metadata": {},
   "source": [
    "## Moving around\n",
    "* Based on [pyqtgraph](http://www.pyqtgraph.org/)\n",
    "* Zoom\n",
    "* Pan\n",
    "* Mulitple objects\n",
    "* Multiple plots\n",
    "* Contextual menu\n",
    "  <img src='spectral_analysis_mm/plot_context_menu.png' />\n",
    "* Plot options\n",
    "  <img src='spectral_analysis_mm/plot_options.png' />\n"
   ]
  },
  {
   "cell_type": "markdown",
   "metadata": {},
   "source": [
    "## Regions of Interest (ROI)\n",
    "* Creating\n",
    "    <img src='spectral_analysis_mm/roi_create.png' />\n",
    "    <img src='spectral_analysis_mm/roi_example.png' />\n",
    "* Moving\n",
    "* Removing\n",
    "* Multiple: see later"
   ]
  },
  {
   "cell_type": "markdown",
   "metadata": {},
   "source": [
    "## Measurement\n",
    "* ROI-based.\n",
    "* Stats\n",
    "    <img src='spectral_analysis_mm/measurements.png' />\n",
    "    <img src='spectral_analysis_mm/measurement_info.png' />\n",
    "* Equivalent Width\n",
    "    <img src='spectral_analysis_mm/equiv_width.png' />\n",
    "    <img src='spectral_analysis_mm/equiv_width_result.png' />"
   ]
  },
  {
   "cell_type": "markdown",
   "metadata": {},
   "source": [
    "## Fitting\n"
   ]
  }
 ],
 "metadata": {
  "kernelspec": {
   "display_name": "Python 2",
   "language": "python",
   "name": "python2"
  },
  "language_info": {
   "codemirror_mode": {
    "name": "ipython",
    "version": 2
   },
   "file_extension": ".py",
   "mimetype": "text/x-python",
   "name": "python",
   "nbconvert_exporter": "python",
   "pygments_lexer": "ipython2",
   "version": "2.7.9"
  }
 },
 "nbformat": 4,
 "nbformat_minor": 0
}
