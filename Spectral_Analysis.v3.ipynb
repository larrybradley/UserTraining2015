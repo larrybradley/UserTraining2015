{
 "metadata": {
  "kernelspec": {
   "display_name": "Python 2",
   "language": "python",
   "name": "python2"
  },
  "language_info": {
   "codemirror_mode": {
    "name": "ipython",
    "version": 2
   },
   "file_extension": ".py",
   "mimetype": "text/x-python",
   "name": "python",
   "nbconvert_exporter": "python",
   "pygments_lexer": "ipython2",
   "version": "2.7.9"
  },
  "name": ""
 },
 "nbformat": 3,
 "nbformat_minor": 0,
 "worksheets": [
  {
   "cells": [
    {
     "cell_type": "heading",
     "level": 2,
     "metadata": {},
     "source": [
      "Abstract"
     ]
    },
    {
     "cell_type": "markdown",
     "metadata": {},
     "source": [
      "Introduction to spectral analysis: Results of the first JWST Data Analysis Sprint.\n",
      "\n",
      "This is an early start on formalizing the toolset needed for spectral analysis, leveraging both the interativity of the python shell and the integration of the Qt toolset within python."
     ]
    },
    {
     "cell_type": "heading",
     "level": 2,
     "metadata": {},
     "source": [
      "Environment"
     ]
    },
    {
     "cell_type": "markdown",
     "metadata": {},
     "source": [
      "To use the standalone app:"
     ]
    },
    {
     "cell_type": "code",
     "collapsed": false,
     "input": [
      "%%bash --bg\n",
      "sview"
     ],
     "language": "python",
     "metadata": {},
     "outputs": [
      {
       "output_type": "stream",
       "stream": "stdout",
       "text": [
        "Starting job # 0 in a separate thread.\n"
       ]
      }
     ],
     "prompt_number": 1
    },
    {
     "cell_type": "markdown",
     "metadata": {},
     "source": [
      "Initial screen will look like:\n",
      "\n",
      "<img src='spectral_analysis_mm/initial_screen.png' />\n",
      "\n",
      "Components:\n",
      "* Workspace\n",
      "* Data manager\n",
      "* There will be more momentarily"
     ]
    },
    {
     "cell_type": "markdown",
     "metadata": {},
     "source": [
      "## Reading Files\n",
      "### The dialogs\n",
      "<img src='spectral_analysis_mm/open_file_menu.png' />\n",
      "<img src='spectral_analysis_mm/open_file_dialog.png' />\n",
      "<img src='spectral_analysis_mm/open_file_fits_dialog.png' />\n",
      "<img src='spectral_analysis_mm/open_file_fits_dialog_column.png' />\n",
      "\n",
      "### The Data Dock\n",
      "<img src='spectral_analysis_mm/data_dock.png' />\n",
      "<img src='spectral_analysis_mm/data_dock_create_plot.png'/>\n",
      "<img src='spectral_analysis_mm/plot.png' />"
     ]
    },
    {
     "cell_type": "markdown",
     "metadata": {},
     "source": [
      "## Moving around\n",
      "* Based on [pyqtgraph](http://www.pyqtgraph.org/)\n",
      "* Zoom\n",
      "* Pan\n",
      "* Mulitple objects\n",
      "* Multiple plots\n",
      "* Contextual menu\n",
      "  <img src='spectral_analysis_mm/plot_context_menu.png' />\n",
      "* Plot options\n",
      "  <img src='spectral_analysis_mm/plot_options.png' />\n"
     ]
    },
    {
     "cell_type": "markdown",
     "metadata": {},
     "source": [
      "## Regions of Interest (ROI)\n",
      "* Creating\n",
      "    <img src='spectral_analysis_mm/roi_create.png' />\n",
      "    <img src='spectral_analysis_mm/roi_example.png' />\n",
      "* Moving\n",
      "* Removing\n",
      "* Multiple: see later"
     ]
    },
    {
     "cell_type": "markdown",
     "metadata": {},
     "source": [
      "## Measurement\n",
      "* ROI-based.\n",
      "* Stats\n",
      "    <img src='spectral_analysis_mm/measurements.png' />\n",
      "    <img src='spectral_analysis_mm/measurement_info.png' />\n",
      "* Equivalent Width\n",
      "    <img src='spectral_analysis_mm/equiv_width.png' />\n",
      "    <img src='spectral_analysis_mm/equiv_width_result.png' />"
     ]
    },
    {
     "cell_type": "markdown",
     "metadata": {},
     "source": [
      "## Fitting\n"
     ]
    },
    {
     "cell_type": "markdown",
     "metadata": {},
     "source": [
      "An (overly) complicated example.\n",
      "<img src='spectral_analysis_mm/feature_selection.png' />\n",
      "<img src='spectral_analysis_mm/cont_selection.png' />\n",
      "<img src='spectral_analysis_mm/fit_create.png' />\n",
      "<img src='spectral_analysis_mm/fit_cont_setup.png' />\n",
      "<img src='spectral_analysis_mm/model_selection.png' />\n",
      "<img src='spectral_analysis_mm/model_detail.png' />\n",
      "<img src='spectral_analysis_mm/fit_cont_graph.png' />\n",
      "<img src='spectral_analysis_mm/fit_cont_result.png' />\n",
      "<img src='spectral_analysis_mm/console_start.png' />\n",
      "<img src='spectral_analysis_mm/console.png' />\n",
      "<img src='spectral_analysis_mm/console_use.png' />\n",
      "<img src='spectral_analysis_mm/fit_lorentz_init.png' />\n",
      "<img src='spectral_analysis_mm/fit_lorentz_done.png' />\n"
     ]
    },
    {
     "cell_type": "heading",
     "level": 2,
     "metadata": {},
     "source": [
      "From the python shell"
     ]
    },
    {
     "cell_type": "code",
     "collapsed": true,
     "input": [
      "from specview.main import SView\n",
      "%gui qt"
     ],
     "language": "python",
     "metadata": {},
     "outputs": [],
     "prompt_number": 1
    },
    {
     "cell_type": "code",
     "collapsed": true,
     "input": [
      "sv = SView()"
     ],
     "language": "python",
     "metadata": {},
     "outputs": [],
     "prompt_number": 2
    },
    {
     "cell_type": "code",
     "collapsed": true,
     "input": [
      "from specview.tools.preprocess import read_data"
     ],
     "language": "python",
     "metadata": {},
     "outputs": [],
     "prompt_number": 3
    },
    {
     "cell_type": "code",
     "collapsed": false,
     "input": [
      "sv.create_display(sv.add_data_set(read_data('spectral_analysis_mm/SimulatedData_invert.fits', ext=1, flux='invert', dispersion='wavelength'), name='BasicData'))"
     ],
     "language": "python",
     "metadata": {},
     "outputs": [],
     "prompt_number": 4
    },
    {
     "cell_type": "code",
     "collapsed": false,
     "input": [
      "list(sv.dc)"
     ],
     "language": "python",
     "metadata": {},
     "outputs": [
      {
       "metadata": {},
       "output_type": "pyout",
       "prompt_number": 5,
       "text": [
        "[(u'BasicData', <specview.core.data_objects.SpectrumData at 0x118f7c310>),\n",
        " (u'Layer_1', <specview.core.data_objects.SpectrumData at 0x118fbfd90>)]"
       ]
      }
     ],
     "prompt_number": 5
    },
    {
     "cell_type": "code",
     "collapsed": false,
     "input": [
      "dir(sv.ops)"
     ],
     "language": "python",
     "metadata": {},
     "outputs": [
      {
       "metadata": {},
       "output_type": "pyout",
       "prompt_number": 6,
       "text": [
        "['__class__',\n",
        " '__delattr__',\n",
        " '__dict__',\n",
        " '__doc__',\n",
        " '__format__',\n",
        " '__getattribute__',\n",
        " '__hash__',\n",
        " '__init__',\n",
        " '__module__',\n",
        " '__new__',\n",
        " '__reduce__',\n",
        " '__reduce_ex__',\n",
        " '__repr__',\n",
        " '__setattr__',\n",
        " '__sizeof__',\n",
        " '__str__',\n",
        " '__subclasshook__',\n",
        " '__weakref__',\n",
        " 'add',\n",
        " 'divide',\n",
        " 'eq_width',\n",
        " 'extract',\n",
        " 'multiply',\n",
        " 'namespace',\n",
        " 'stats',\n",
        " 'subtract',\n",
        " 'user_add',\n",
        " 'user_funny_add']"
       ]
      }
     ],
     "prompt_number": 6
    },
    {
     "cell_type": "code",
     "collapsed": false,
     "input": [
      "sv.ops.stats(sv.dc['BasicData'])"
     ],
     "language": "python",
     "metadata": {},
     "outputs": [
      {
       "metadata": {},
       "output_type": "pyout",
       "prompt_number": 7,
       "text": [
        "{'mean': 7.4469829,\n",
        " 'median': 7.6303406,\n",
        " 'npoints': 200,\n",
        " 'stddev': 0.70849377,\n",
        " 'total': 1481.332}"
       ]
      }
     ],
     "prompt_number": 7
    },
    {
     "cell_type": "code",
     "collapsed": false,
     "input": [
      "sv.ops.stats(sv.dc['Layer_1'])"
     ],
     "language": "python",
     "metadata": {},
     "outputs": [
      {
       "metadata": {},
       "output_type": "pyout",
       "prompt_number": 8,
       "text": [
        "{'mean': 7.4469829,\n",
        " 'median': 7.6303406,\n",
        " 'npoints': 200,\n",
        " 'stddev': 0.70849377,\n",
        " 'total': 1481.332}"
       ]
      }
     ],
     "prompt_number": 8
    },
    {
     "cell_type": "code",
     "collapsed": false,
     "input": [
      "sv.log"
     ],
     "language": "python",
     "metadata": {},
     "outputs": [
      {
       "metadata": {},
       "output_type": "pyout",
       "prompt_number": 9,
       "text": [
        "[Entry(name='stats', func=<function stats at 0x111da9aa0>, args=(<specview.core.data_objects.SpectrumData object at 0x118f7c310>,), kwargs={}, result={'npoints': 200, 'total': 1481.332, 'median': 7.6303406, 'stddev': 0.70849377, 'mean': 7.4469829}),\n",
        " Entry(name='stats', func=<function stats at 0x111da9aa0>, args=(<specview.core.data_objects.SpectrumData object at 0x118fbfd90>,), kwargs={}, result={'npoints': 200, 'total': 1481.332, 'median': 7.6303406, 'stddev': 0.70849377, 'mean': 7.4469829})]"
       ]
      }
     ],
     "prompt_number": 9
    },
    {
     "cell_type": "markdown",
     "metadata": {},
     "source": [
      "Now do the equivalent width measurement..."
     ]
    },
    {
     "cell_type": "code",
     "collapsed": false,
     "input": [
      "sv.log[-1]"
     ],
     "language": "python",
     "metadata": {},
     "outputs": [
      {
       "metadata": {},
       "output_type": "pyout",
       "prompt_number": 10,
       "text": [
        "Entry(name='eq_width', func=<function eq_width at 0x111da9b18>, args=({'npoints': 38, 'total': 265.94873, 'median': 7.1611357, 'stddev': 0.22787836, 'mean': 7.1915622}, {'npoints': 26, 'total': 199.33394, 'median': 7.967237, 'stddev': 0.1932904, 'mean': 7.9755173}, <specview.core.data_objects.SpectrumData object at 0x118f47a50>), kwargs={}, result=(-0.45564637, 0.060083587))"
       ]
      }
     ],
     "prompt_number": 10
    },
    {
     "cell_type": "code",
     "collapsed": true,
     "input": [],
     "language": "python",
     "metadata": {},
     "outputs": [],
     "prompt_number": null
    }
   ],
   "metadata": {}
  }
 ]
}