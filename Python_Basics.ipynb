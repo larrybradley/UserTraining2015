{
 "metadata": {
  "name": "",
  "signature": "sha256:7e97b733a8c06b820db6d0c9e74ce46cec091e5cd51be88d1076b6763413c6f7"
 },
 "nbformat": 3,
 "nbformat_minor": 0,
 "worksheets": [
  {
   "cells": [
    {
     "cell_type": "markdown",
     "metadata": {},
     "source": [
      "Assumptions\n",
      "===========\n",
      "\n",
      "You have some experience with programming (preferably scripting like language--e.g., IDL or similar)\n",
      "\n",
      "30 minutes coverage can only hit certain points. People will be available to answer specific questions that come up in the activities. Or refer to documentation if the location is obvious (googling is often the fastest way).\n",
      "\n",
      "Using Python 2, but with Python 3 print and division behavior (we will be switching to Python 3 within a year as our main development and operations platform)\n",
      "\n",
      "Using IPython notebook (future name: Jupyter) for nearly all tutorial material. You don't have to use it for general work, but we will require project activities to use it to display their results. Some instruction on using it later will be given.\n",
      "\n",
      "General Comments\n",
      "================\n",
      "\n",
      "Since many have IDL experience, more attention paid to comparisons.\n",
      "\n",
      "Python is much more general and powerful than IDL, but IDL does make some things more convenient for numerical analysis since it is specialized for that. One just has to live with that. The plusses far outweigh the minuses.\n",
      "\n",
      "Topics covered\n",
      "==============\n",
      "\n",
      "- Simple examples, how assignment works\n",
      "- Fundamental data structures: Strings, Lists, Dictionaries, Tuples\n",
      "- using modules\n",
      "- using objects\n",
      "- defining functions\n",
      "- numpy (array manipulation basics)\n",
      " - creating\n",
      " - indexing/slicing\n",
      " - broadcasting\n",
      "- plotting (matplotlib)\n",
      " - modes of use\n",
      " - gallery\n"
     ]
    },
    {
     "cell_type": "heading",
     "level": 2,
     "metadata": {},
     "source": [
      "Simple examples"
     ]
    },
    {
     "cell_type": "code",
     "collapsed": false,
     "input": [
      "# import statements will be talked about later, for now, just do it.\n",
      "from __future__ import print_function, division # Makes both of these Python 3 form.\n",
      "                                                # Good to get used to...\n",
      "\n",
      "x = 1\n",
      "y = 3.14\n",
      "s = \"Hello There\"\n",
      "print(s)"
     ],
     "language": "python",
     "metadata": {},
     "outputs": [
      {
       "output_type": "stream",
       "stream": "stdout",
       "text": [
        "Hello There\n"
       ]
      }
     ],
     "prompt_number": 2
    },
    {
     "cell_type": "code",
     "collapsed": false,
     "input": [
      "# string operations\n",
      "print(s + s)\n",
      "print(2*s)\n",
      "print(len(s))"
     ],
     "language": "python",
     "metadata": {},
     "outputs": [
      {
       "output_type": "stream",
       "stream": "stdout",
       "text": [
        "Hello ThereHello There\n",
        "Hello ThereHello There\n",
        "11\n"
       ]
      }
     ],
     "prompt_number": 3
    },
    {
     "cell_type": "heading",
     "level": 2,
     "metadata": {},
     "source": [
      "Fundamental data structures: Lists, Dictionaries, Tuples"
     ]
    },
    {
     "cell_type": "code",
     "collapsed": false,
     "input": [
      "# Lists\n",
      "L = [\"red\", \"green\", \"blue\"] # yes, case matters in variable names\n",
      "print(L)\n",
      "# lists can contain objects of any type, even other lists\n",
      "# But usual practice is to limit members to items that share some essential property.\n",
      "L = L + [2]\n",
      "print(L)"
     ],
     "language": "python",
     "metadata": {},
     "outputs": [
      {
       "output_type": "stream",
       "stream": "stdout",
       "text": [
        "['red', 'green', 'blue']\n",
        "['red', 'green', 'blue', 2]\n"
       ]
      }
     ],
     "prompt_number": 4
    },
    {
     "cell_type": "code",
     "collapsed": false,
     "input": [
      "# Indexing, access a list member\n",
      "print(L[1])\n",
      "# Slicing, extract a sublist\n",
      "print(L[1:3]) # second index is non-inclusive!\n",
      "# huh?"
     ],
     "language": "python",
     "metadata": {},
     "outputs": [
      {
       "output_type": "stream",
       "stream": "stdout",
       "text": [
        "green\n",
        "['green', 'blue']\n"
       ]
      }
     ],
     "prompt_number": 5
    },
    {
     "cell_type": "code",
     "collapsed": false,
     "input": [
      "# Indexing conveniences\n",
      "L[-1]"
     ],
     "language": "python",
     "metadata": {},
     "outputs": [
      {
       "metadata": {},
       "output_type": "pyout",
       "prompt_number": 6,
       "text": [
        "2"
       ]
      }
     ],
     "prompt_number": 6
    },
    {
     "cell_type": "code",
     "collapsed": false,
     "input": [
      "L[:4:2]"
     ],
     "language": "python",
     "metadata": {},
     "outputs": [
      {
       "metadata": {},
       "output_type": "pyout",
       "prompt_number": 7,
       "text": [
        "['red', 'blue']"
       ]
      }
     ],
     "prompt_number": 7
    },
    {
     "cell_type": "code",
     "collapsed": false,
     "input": [
      "# indexing works on strings too\n",
      "s[::-2]"
     ],
     "language": "python",
     "metadata": {},
     "outputs": [
      {
       "metadata": {},
       "output_type": "pyout",
       "prompt_number": 8,
       "text": [
        "'eeTolH'"
       ]
      }
     ],
     "prompt_number": 8
    },
    {
     "cell_type": "code",
     "collapsed": false,
     "input": [
      "# Modify a list\n",
      "# Replace an element\n",
      "L[-1] = \"pink\"\n",
      "L.append('purple')\n",
      "print(L)\n",
      "# insertion\n",
      "L[1:2] = ['orange', 'brown']\n",
      "print(L)\n",
      "# deletion\n",
      "del L[4:6]"
     ],
     "language": "python",
     "metadata": {},
     "outputs": [
      {
       "output_type": "stream",
       "stream": "stdout",
       "text": [
        "['red', 'green', 'blue', 'pink', 'purple']\n",
        "['red', 'orange', 'brown', 'blue', 'pink', 'purple']\n"
       ]
      }
     ],
     "prompt_number": 9
    },
    {
     "cell_type": "code",
     "collapsed": false,
     "input": [
      "# Dictionaries: Indexing a collection by arbitrary names or objects\n",
      "D = {'M1':('5:34.5','22:01'), 'M51':('13:29.9','47:12'), 'M27':('19:59.6','22:43')}\n",
      "D['M51']"
     ],
     "language": "python",
     "metadata": {},
     "outputs": [
      {
       "metadata": {},
       "output_type": "pyout",
       "prompt_number": 10,
       "text": [
        "('13:29.9', '47:12')"
       ]
      }
     ],
     "prompt_number": 10
    },
    {
     "cell_type": "code",
     "collapsed": false,
     "input": [
      "# Note about Tuples. Just like lists except use parentheses. \n",
      "# Single element Tuple must have a comma, otherwise it is treated as a math expression:\n",
      "et = (3.14,)\n",
      "# Can be indexed like lists, but cannot be changed once created (immutable)\n",
      "# only immutable objects can be used as keys to dictionaries (e.g., numbers, strings, tuples)\n",
      "# Tuples usually used to contain different kinds of things (unlike lists),\n",
      "# but with a consistent arrangement (e.g., (\"M51\", ra, dec, \"cool interacting galaxy\")\n",
      "D['M51'][0] = 0 # try to set a new RA; note \"traceback\" on an error"
     ],
     "language": "python",
     "metadata": {},
     "outputs": [
      {
       "ename": "TypeError",
       "evalue": "'tuple' object does not support item assignment",
       "output_type": "pyerr",
       "traceback": [
        "\u001b[0;31m---------------------------------------------------------------------------\u001b[0m\n\u001b[0;31mTypeError\u001b[0m                                 Traceback (most recent call last)",
        "\u001b[0;32m<ipython-input-11-16a0a2ced564>\u001b[0m in \u001b[0;36m<module>\u001b[0;34m()\u001b[0m\n\u001b[1;32m      6\u001b[0m \u001b[0;31m# Tuples usually used to contain different kinds of things (unlike lists),\u001b[0m\u001b[0;34m\u001b[0m\u001b[0;34m\u001b[0m\u001b[0m\n\u001b[1;32m      7\u001b[0m \u001b[0;31m# but with a consistent arrangement (e.g., (\"M51\", ra, dec, \"cool interacting galaxy\")\u001b[0m\u001b[0;34m\u001b[0m\u001b[0;34m\u001b[0m\u001b[0m\n\u001b[0;32m----> 8\u001b[0;31m \u001b[0mD\u001b[0m\u001b[0;34m[\u001b[0m\u001b[0;34m'M51'\u001b[0m\u001b[0;34m]\u001b[0m\u001b[0;34m[\u001b[0m\u001b[0;36m0\u001b[0m\u001b[0;34m]\u001b[0m \u001b[0;34m=\u001b[0m \u001b[0;36m0\u001b[0m \u001b[0;31m# try to set a new RA; note \"traceback\" on an error\u001b[0m\u001b[0;34m\u001b[0m\u001b[0m\n\u001b[0m",
        "\u001b[0;31mTypeError\u001b[0m: 'tuple' object does not support item assignment"
       ]
      }
     ],
     "prompt_number": 11
    },
    {
     "cell_type": "code",
     "collapsed": false,
     "input": [
      "# Note about how variables and values work\n",
      "L2 = L # L2 is not a copy of L, it refers to the same list as L\n",
      "L3 = L[:] # this is a copy\n",
      "L[0] = 'lime green'\n",
      "print(L2)\n",
      "print(L3)"
     ],
     "language": "python",
     "metadata": {},
     "outputs": [
      {
       "output_type": "stream",
       "stream": "stdout",
       "text": [
        "['lime green', 'orange', 'brown', 'blue']\n",
        "['red', 'orange', 'brown', 'blue']\n"
       ]
      }
     ],
     "prompt_number": 12
    },
    {
     "cell_type": "heading",
     "level": 2,
     "metadata": {},
     "source": [
      "Using modules"
     ]
    },
    {
     "cell_type": "code",
     "collapsed": false,
     "input": [
      "# Libraries store code in modules and packages (think of packages as groups of modules).\n",
      "# Module is a python file in the search path of Python (it can be compiled C code as well...)\n",
      "# Multiple ways of importing the code into Python\n",
      "import math # contents in the \"math\" namespace\n",
      "print(math.sqrt(2.)) \n",
      "print(sqrt(2.)) # doesn't work"
     ],
     "language": "python",
     "metadata": {},
     "outputs": [
      {
       "output_type": "stream",
       "stream": "stdout",
       "text": [
        "1.41421356237\n"
       ]
      },
      {
       "ename": "NameError",
       "evalue": "name 'sqrt' is not defined",
       "output_type": "pyerr",
       "traceback": [
        "\u001b[0;31m---------------------------------------------------------------------------\u001b[0m\n\u001b[0;31mNameError\u001b[0m                                 Traceback (most recent call last)",
        "\u001b[0;32m<ipython-input-13-8320e6c86738>\u001b[0m in \u001b[0;36m<module>\u001b[0;34m()\u001b[0m\n\u001b[1;32m      4\u001b[0m \u001b[0;32mimport\u001b[0m \u001b[0mmath\u001b[0m \u001b[0;31m# contents in the \"math\" namespace\u001b[0m\u001b[0;34m\u001b[0m\u001b[0m\n\u001b[1;32m      5\u001b[0m \u001b[0;32mprint\u001b[0m\u001b[0;34m(\u001b[0m\u001b[0mmath\u001b[0m\u001b[0;34m.\u001b[0m\u001b[0msqrt\u001b[0m\u001b[0;34m(\u001b[0m\u001b[0;36m2.\u001b[0m\u001b[0;34m)\u001b[0m\u001b[0;34m)\u001b[0m\u001b[0;34m\u001b[0m\u001b[0m\n\u001b[0;32m----> 6\u001b[0;31m \u001b[0;32mprint\u001b[0m\u001b[0;34m(\u001b[0m\u001b[0msqrt\u001b[0m\u001b[0;34m(\u001b[0m\u001b[0;36m2.\u001b[0m\u001b[0;34m)\u001b[0m\u001b[0;34m)\u001b[0m \u001b[0;31m# doesn't work\u001b[0m\u001b[0;34m\u001b[0m\u001b[0m\n\u001b[0m",
        "\u001b[0;31mNameError\u001b[0m: name 'sqrt' is not defined"
       ]
      }
     ],
     "prompt_number": 13
    },
    {
     "cell_type": "code",
     "collapsed": false,
     "input": [
      "import math as m # give an alias to the original name\n",
      "print(m.sqrt(2))\n",
      "from math import sqrt # move sqrt into the current namespace\n",
      "print(sqrt(2)) # works now!\n",
      "from math import * # dump all things from math into current namespace\n",
      "print(floor(2.5)) # very convenient, but usually a very, very bad idea,\n",
      "                  # particularly in scripts and libraries\n",
      "                  # Name collisions possible (one function hides another),\n",
      "                  # Or hard to determine where a function comes from if many modules imported"
     ],
     "language": "python",
     "metadata": {},
     "outputs": [
      {
       "output_type": "stream",
       "stream": "stdout",
       "text": [
        "1.41421356237\n",
        "1.41421356237\n",
        "2.0\n"
       ]
      }
     ],
     "prompt_number": 14
    },
    {
     "cell_type": "markdown",
     "metadata": {},
     "source": [
      "**important note**\n",
      "If developing a module of your own, and you need to reload it after changes made to file.\n",
      "\n",
      "`import mymodule` will **not** reload your module\n",
      "\n",
      "Python see this and thinks that it is already loaded and nothing must be done\n",
      "\n",
      "Must use the following form:\n",
      "\n",
      "`reload(mymodule)`"
     ]
    },
    {
     "cell_type": "heading",
     "level": 2,
     "metadata": {},
     "source": [
      "Using Objects"
     ]
    },
    {
     "cell_type": "code",
     "collapsed": false,
     "input": [
      "print(s.upper()) # change to upper case\n",
      "print(s.find('llo')) # is the supplied string inside s?\n",
      "print(s.split()) # split string into multiple strings as a list; defaults to splitting on whitespace\n"
     ],
     "language": "python",
     "metadata": {},
     "outputs": [
      {
       "output_type": "stream",
       "stream": "stdout",
       "text": [
        "HELLO THERE\n",
        "2\n",
        "['Hello', 'There']\n"
       ]
      }
     ],
     "prompt_number": 15
    },
    {
     "cell_type": "code",
     "collapsed": false,
     "input": [
      "# Formatted printing\n",
      "pi = 3.1415926\n",
      "print(\"{}\".format(pi))\n",
      "print(\"{1} {0}\".format(\"hello\",pi))\n",
      "print(\"{:.2f}\".format(pi))\n",
      "# See https://docs.python.org/2/library/string.html#format-specification-mini-language\n",
      "# for all formatting options and many examples"
     ],
     "language": "python",
     "metadata": {},
     "outputs": [
      {
       "output_type": "stream",
       "stream": "stdout",
       "text": [
        "3.1415926\n",
        "3.1415926 hello\n",
        "3.14\n"
       ]
      }
     ],
     "prompt_number": 23
    },
    {
     "cell_type": "heading",
     "level": 2,
     "metadata": {},
     "source": [
      "Defining functions, control loops"
     ]
    },
    {
     "cell_type": "markdown",
     "metadata": {},
     "source": [
      "A word about indentation in Python\n",
      "\n",
      "**Indentation Matters!** No use of delimiters to define blocks. What you see is what you get. *Unless you use tabs!*\n",
      "\n",
      "**Never ever use real tabs for indentation** Most editors can be set to turn tabs into spaces."
     ]
    },
    {
     "cell_type": "code",
     "collapsed": false,
     "input": [
      "# define a simple function\n",
      "def square(x):\n",
      "    '''square supplied number''' # this is a docstring; many tools can use this automatically\n",
      "    newvalue = x**2\n",
      "    return newvalue\n",
      "\n",
      "print(square(4))"
     ],
     "language": "python",
     "metadata": {},
     "outputs": [
      {
       "output_type": "stream",
       "stream": "stdout",
       "text": [
        "16\n"
       ]
      }
     ],
     "prompt_number": 16
    },
    {
     "cell_type": "code",
     "collapsed": false,
     "input": [
      "# handling looping\n",
      "def first_n_squares(n):\n",
      "    '''return the first n squares as a list'''\n",
      "    squares = []\n",
      "    for x in range(n):\n",
      "        squares.append(square(x))\n",
      "    return squares\n",
      "\n",
      "first_n_squares(10)"
     ],
     "language": "python",
     "metadata": {},
     "outputs": [
      {
       "metadata": {},
       "output_type": "pyout",
       "prompt_number": 17,
       "text": [
        "[0, 1, 4, 9, 16, 25, 36, 49, 64, 81]"
       ]
      }
     ],
     "prompt_number": 17
    },
    {
     "cell_type": "code",
     "collapsed": false,
     "input": [
      "# typical loop constructs\n",
      "for color in L:\n",
      "    print(color)\n",
      "# if a count is needed while looping  \n",
      "print('------')\n",
      "for i, color in enumerate(L):\n",
      "    print(i, color)\n",
      "# if you have two matching sequences you want to iterate through\n",
      "# in parallel\n",
      "print('------')\n",
      "for color, n in zip(L, range(5,5+len(L))):\n",
      "    print(color, n)"
     ],
     "language": "python",
     "metadata": {},
     "outputs": [
      {
       "output_type": "stream",
       "stream": "stdout",
       "text": [
        "lime green\n",
        "orange\n",
        "brown\n",
        "blue\n",
        "------\n",
        "0 lime green\n",
        "1 orange\n",
        "2 brown\n",
        "3 blue\n",
        "------\n",
        "lime green 5\n",
        "orange 6\n",
        "brown 7\n",
        "blue 8\n"
       ]
      }
     ],
     "prompt_number": 19
    },
    {
     "cell_type": "heading",
     "level": 2,
     "metadata": {},
     "source": [
      "Truth and conditionals"
     ]
    },
    {
     "cell_type": "code",
     "collapsed": false,
     "input": [
      "# 0, 0., empty strings, lists, tuples, dictionaries, \n",
      "# and a special value \"None\" all are treated as false.\n",
      "# The official true and false values are \"True\" and \"False\" (not strings)\n",
      "if 0:\n",
      "    print('Hi')"
     ],
     "language": "python",
     "metadata": {},
     "outputs": [],
     "prompt_number": 18
    },
    {
     "cell_type": "code",
     "collapsed": false,
     "input": [
      "if True:\n",
      "    print('True!')"
     ],
     "language": "python",
     "metadata": {},
     "outputs": [
      {
       "output_type": "stream",
       "stream": "stdout",
       "text": [
        "True!\n"
       ]
      }
     ],
     "prompt_number": 19
    },
    {
     "cell_type": "code",
     "collapsed": false,
     "input": [
      "if None:\n",
      "    print('None case')\n",
      "elif []:\n",
      "    print('empty list case')\n",
      "elif [0]:\n",
      "    print('nonempty list case')\n",
      "else:\n",
      "    print('nothing was true')"
     ],
     "language": "python",
     "metadata": {},
     "outputs": [
      {
       "output_type": "stream",
       "stream": "stdout",
       "text": [
        "nonempty list case\n"
       ]
      }
     ],
     "prompt_number": 21
    },
    {
     "cell_type": "heading",
     "level": 2,
     "metadata": {},
     "source": [
      "numpy"
     ]
    },
    {
     "cell_type": "code",
     "collapsed": false,
     "input": [
      "import numpy as np\n",
      "x = np.arange(20)\n",
      "print(x)"
     ],
     "language": "python",
     "metadata": {},
     "outputs": [
      {
       "output_type": "stream",
       "stream": "stdout",
       "text": [
        "[ 0  1  2  3  4  5  6  7  8  9 10 11 12 13 14 15 16 17 18 19]\n"
       ]
      }
     ],
     "prompt_number": 4
    },
    {
     "cell_type": "code",
     "collapsed": false,
     "input": [
      "# changing dimensionality\n",
      "x.shape = (4, 5) # must have same number of elements\n",
      "print(x)"
     ],
     "language": "python",
     "metadata": {},
     "outputs": [
      {
       "output_type": "stream",
       "stream": "stdout",
       "text": [
        "[[ 0  1  2  3  4]\n",
        " [ 5  6  7  8  9]\n",
        " [10 11 12 13 14]\n",
        " [15 16 17 18 19]]\n"
       ]
      }
     ],
     "prompt_number": 37
    },
    {
     "cell_type": "code",
     "collapsed": false,
     "input": [
      "f = x.astype(np.float32) # how to convert to a new type\n",
      "f"
     ],
     "language": "python",
     "metadata": {},
     "outputs": [
      {
       "metadata": {},
       "output_type": "pyout",
       "prompt_number": 40,
       "text": [
        "array([[  0.,   1.,   2.,   3.,   4.],\n",
        "       [  5.,   6.,   7.,   8.,   9.],\n",
        "       [ 10.,  11.,  12.,  13.,  14.],\n",
        "       [ 15.,  16.,  17.,  18.,  19.]], dtype=float32)"
       ]
      }
     ],
     "prompt_number": 40
    },
    {
     "cell_type": "code",
     "collapsed": false,
     "input": [
      "f**2 + np.sin(f) # arrays work in mathematical expressions"
     ],
     "language": "python",
     "metadata": {},
     "outputs": [
      {
       "metadata": {},
       "output_type": "pyout",
       "prompt_number": 42,
       "text": [
        "array([[   0.        ,    1.84147096,    4.90929747,    9.14111996,\n",
        "          15.24319744],\n",
        "       [  24.04107666,   35.72058487,   49.65698624,   64.98935699,\n",
        "          81.412117  ],\n",
        "       [  99.45597839,  120.00000763,  143.46342468,  169.42016602,\n",
        "         196.99060059],\n",
        "       [ 225.65028381,  255.71209717,  288.03860474,  323.24902344,\n",
        "         361.14987183]], dtype=float32)"
       ]
      }
     ],
     "prompt_number": 42
    },
    {
     "cell_type": "code",
     "collapsed": false,
     "input": [
      "fs = np.sin(f)\n",
      "fs"
     ],
     "language": "python",
     "metadata": {},
     "outputs": [
      {
       "metadata": {},
       "output_type": "pyout",
       "prompt_number": 47,
       "text": [
        "array([[ 0.        ,  0.84147096,  0.90929741,  0.14112   , -0.7568025 ],\n",
        "       [-0.95892429, -0.27941549,  0.65698659,  0.98935825,  0.41211849],\n",
        "       [-0.54402113, -0.99999022, -0.53657293,  0.42016703,  0.99060738],\n",
        "       [ 0.65028787, -0.28790331, -0.96139747, -0.75098723,  0.14987721]], dtype=float32)"
       ]
      }
     ],
     "prompt_number": 47
    },
    {
     "cell_type": "code",
     "collapsed": false,
     "input": [
      "# Indexing issues: 1-d works like lists\n",
      "# Numpy supports multiple dimension indexing\n",
      "# Order of indices is OPPOSITE of what IDL and Fortran users expect\n",
      "# Most rapidly varying index in memory is the last one, not first!\n",
      "print(fs[0,1]) # First row, second column"
     ],
     "language": "python",
     "metadata": {},
     "outputs": [
      {
       "output_type": "stream",
       "stream": "stdout",
       "text": [
        "0.841471\n"
       ]
      }
     ],
     "prompt_number": 46
    },
    {
     "cell_type": "code",
     "collapsed": false,
     "input": [
      "# slices are views, not copies!\n",
      "fsview = fs[1:3,0:3]\n",
      "print(fsview)\n",
      "fsview[0,0] = 100\n",
      "print(fs)"
     ],
     "language": "python",
     "metadata": {},
     "outputs": [
      {
       "output_type": "stream",
       "stream": "stdout",
       "text": [
        "[[-0.95892429 -0.27941549  0.65698659]\n",
        " [-0.54402113 -0.99999022 -0.53657293]]\n",
        "[[   0.            0.84147096    0.90929741    0.14112      -0.7568025 ]\n",
        " [ 100.           -0.27941549    0.65698659    0.98935825    0.41211849]\n",
        " [  -0.54402113   -0.99999022   -0.53657293    0.42016703    0.99060738]\n",
        " [   0.65028787   -0.28790331   -0.96139747   -0.75098723    0.14987721]]\n"
       ]
      }
     ],
     "prompt_number": 48
    },
    {
     "cell_type": "code",
     "collapsed": false,
     "input": [
      "# using mask arrays to index\n",
      "fs[fs>0]"
     ],
     "language": "python",
     "metadata": {},
     "outputs": [
      {
       "metadata": {},
       "output_type": "pyout",
       "prompt_number": 49,
       "text": [
        "array([   0.84147096,    0.90929741,    0.14112   ,  100.        ,\n",
        "          0.65698659,    0.98935825,    0.41211849,    0.42016703,\n",
        "          0.99060738,    0.65028787,    0.14987721], dtype=float32)"
       ]
      }
     ],
     "prompt_number": 49
    },
    {
     "cell_type": "code",
     "collapsed": false,
     "input": [
      "# using index arrays\n",
      "nz = np.where(fs > 0)\n",
      "print(nz)\n",
      "fs[nz]"
     ],
     "language": "python",
     "metadata": {},
     "outputs": [
      {
       "output_type": "stream",
       "stream": "stdout",
       "text": [
        "(array([0, 0, 0, 1, 1, 1, 1, 2, 2, 3, 3]), array([1, 2, 3, 0, 2, 3, 4, 3, 4, 0, 4]))\n"
       ]
      },
      {
       "metadata": {},
       "output_type": "pyout",
       "prompt_number": 50,
       "text": [
        "array([   0.84147096,    0.90929741,    0.14112   ,  100.        ,\n",
        "          0.65698659,    0.98935825,    0.41211849,    0.42016703,\n",
        "          0.99060738,    0.65028787,    0.14987721], dtype=float32)"
       ]
      }
     ],
     "prompt_number": 50
    },
    {
     "cell_type": "code",
     "collapsed": false,
     "input": [
      "from matplotlib import pyplot as plt # yet another import variant...\n",
      "plt.ion()\n"
     ],
     "language": "python",
     "metadata": {},
     "outputs": [],
     "prompt_number": 2
    },
    {
     "cell_type": "code",
     "collapsed": false,
     "input": [
      "plt.plot(np.sin(np.arange(100)/5))"
     ],
     "language": "python",
     "metadata": {},
     "outputs": [
      {
       "metadata": {},
       "output_type": "pyout",
       "prompt_number": 6,
       "text": [
        "[<matplotlib.lines.Line2D at 0x109411ed0>]"
       ]
      }
     ],
     "prompt_number": 6
    },
    {
     "cell_type": "heading",
     "level": 1,
     "metadata": {},
     "source": [
      "IPython Notebook Usage"
     ]
    },
    {
     "cell_type": "markdown",
     "metadata": {},
     "source": [
      "The IPython notebook provides a number of advantages:\n",
      "\n",
      "- Good tutorial medium; annotations and images can be inserted\n",
      "- Avoids editor for smaller projects\n",
      "- Can embed plots from matplotlib\n",
      "- Enhanced formatting\n",
      "\n",
      "There are some drawbacks\n",
      "\n",
      "- Can't use debugger (yet)\n",
      "- Executing cells out of order can confuse\n",
      "- Must remember to use <Shift-Return> to execute cell\n",
      "\n",
      "How to start:\n",
      "\n",
      "- Go to directory containing notebooks (the lowest level directory possible is most convenient)\n",
      "- type at the shell level in a terminal window either:\n",
      "  - `ipython notebook` : starts basic notebook in browser\n",
      "\n",
      "To enable inline plots, as first command type: `%matplotlib inline`\n",
      "\n",
      "  \n",
      "Markdown cheatsheet:\n",
      "https://github.com/adam-p/markdown-here/wiki/Markdown-Cheatsheet#code\n",
      "\n",
      "###Editing Code Cells\n",
      "\n",
      "Code cells are editable. If you make a mistake, just put the cursor in the cell and edit it. When you are done making changes, just re-execute. Rather than a long history of failed attempts as you would get in traditional logging of an interactive session, you just keep changing one thing until you get it right\n",
      "\n",
      "###Menu/Toolbar\n",
      "\n",
      "Note the menus and toolbar at the top of the browser page. These allow quite a few actions to be performed. This tutorial won't go in to exhaustive detail on each choice, but will highlight some key features. You can always explore the choices on your own, and there is a help menu item for the ipython notebook and other Python tools. If you hover on toolbar widgets, a tooltip will appear. Finally, many of these have keyboard shortcuts; you can see these under the help menu (most of the keyboard shortcuts are two character combinations starting with to avoid conflicts with other programs).\n",
      "\n",
      "###Renaming Your Notebook\n",
      "\n",
      "Click on the text to the right of \"Notebook\" at the top of the screen to rename your Notebook to something more informative.\n",
      "\n",
      "###Saving Your Notebook\n",
      "\n",
      "An IPython Notebook is a document much like any other. If you don't save your changes can be lost. To save your notebook just select \"save\" from the \"File\" dropdown at the top of the browser window or click the disk icon. The file will appear in the directory where you ran ipython notebook with the title as the name of the file and .ipynb as its extension.\n",
      "\n",
      "###Editing Options\n",
      "\n",
      "In the \"Edit\" menu and in the toolbar are options for editing actions like delete, copy, cut, paste, merge, split, etc.\n",
      "\n",
      "###New Cells\n",
      "\n",
      "IPython will automatically insert new cells at the end of the Notebook. In the menus and toolbars are buttons for inserting cells above and below the cursor.\n",
      "\n",
      "###Kinds of Cells\n",
      "\n",
      "Notebook cells can be switched between different input types, including cells expecting Markdown (like this cell), cells expecting Python code, and cells that take raw text and do nothing to it. Cells can be converted between these types using the \"Cell\" menu or the toolbar dropdown.\n",
      "\n",
      "###Keyboard Shortcuts\n",
      "\n",
      "There are keyboard shortcuts for most of the actions described above. To see all of the available shortcuts click the \"Keyboard Shortcuts\" item in the \"Help\" menu (or type <ctrl>-m-h). A number of these are intended to be typed sequentially, i.e., escape, then <ctrl> then 'b'.\n",
      "\n",
      "###Executing a Whole Notebook\n",
      "\n",
      "A Notebook can be executed linearly from top to bottom by selecting \"Run All\" from the \"Cell\" menu. This can be useful when resuming work in an existing Notebook.\n",
      "\n",
      "###Latex Math\n",
      "\n",
      "You can put nicely rendered equations into Markdown cells. Use $...$ for inline equations and \\$\\$...\\$\\$ for block equations. For example, `$E = mc^2$` is rendered as $E = mc^2$. `$$f(x) = \\int_0^x sin(\\theta) d{\\theta}$$` is rendered as:\n",
      "\n",
      " $$f(x) = \\int_0^x sin(\\theta) d{\\theta}$$"
     ]
    },
    {
     "cell_type": "heading",
     "level": 1,
     "metadata": {},
     "source": [
      "Resources"
     ]
    },
    {
     "cell_type": "code",
     "collapsed": false,
     "input": [],
     "language": "python",
     "metadata": {},
     "outputs": []
    }
   ],
   "metadata": {}
  }
 ]
}