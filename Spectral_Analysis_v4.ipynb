{
 "cells": [
  {
   "cell_type": "markdown",
   "metadata": {},
   "source": [
    "## Abstract"
   ]
  },
  {
   "cell_type": "markdown",
   "metadata": {},
   "source": [
    "Introduction to spectral analysis: Results of the first JWST Data Analysis Sprint.\n",
    "\n",
    "This is an early start on formalizing the toolset needed for spectral analysis, leveraging both the interativity of the python shell and the integration of the Qt toolset within python.\n",
    "\n",
    "Work done by:\n",
    "* Nick Earl\n",
    "* Ivo Busko\n",
    "* Jonathan Eisenhamer"
   ]
  },
  {
   "cell_type": "markdown",
   "metadata": {},
   "source": [
    "## Environment"
   ]
  },
  {
   "cell_type": "markdown",
   "metadata": {},
   "source": [
    "To use the standalone app:"
   ]
  },
  {
   "cell_type": "code",
   "execution_count": 1,
   "metadata": {
    "collapsed": false
   },
   "outputs": [
    {
     "name": "stdout",
     "output_type": "stream",
     "text": [
      "Starting job # 0 in a separate thread.\n"
     ]
    }
   ],
   "source": [
    "%%bash --bg\n",
    "sview"
   ]
  },
  {
   "cell_type": "markdown",
   "metadata": {},
   "source": [
    "Initial screen will look like:\n",
    "\n",
    "<img src='spectral_analysis_mm/initial_screen.png' width='80%' />\n",
    "\n",
    "Components:\n",
    "* Workspace\n",
    "* Data manager\n",
    "* There will be more momentarily"
   ]
  },
  {
   "cell_type": "markdown",
   "metadata": {},
   "source": [
    "## Reading Files\n",
    "### The dialogs\n",
    "Files are opened as with any other app...\n",
    "\n",
    "<img src='spectral_analysis_mm/open_file_menu.png' width='50%'/>\n",
    "<img src='spectral_analysis_mm/open_file_dialog.png' width='75%' />\n",
    "\n",
    "Because FITS...\n",
    "\n",
    "<img src='spectral_analysis_mm/open_file_fits_dialog.png' width='30%'/>\n",
    "<img src='spectral_analysis_mm/open_file_fits_dialog_column.png' width='30%'/>"
   ]
  },
  {
   "cell_type": "markdown",
   "metadata": {},
   "source": [
    "### The Data Dock\n",
    "The Data dock is where the data sets are managed. The dataset just read in should now appear:\n",
    "\n",
    "<img src='spectral_analysis_mm/data_dock.png' width='40%' />\n",
    "\n",
    "To plot the data, find the *create plot* button:\n",
    "\n",
    "<img src='spectral_analysis_mm/data_dock_create_plot.png' width='40%' />\n",
    "\n",
    "And the following should occur:\n",
    "\n",
    "<img src='spectral_analysis_mm/plot.png' width='75%' />"
   ]
  },
  {
   "cell_type": "markdown",
   "metadata": {},
   "source": [
    "## Moving around\n",
    "* Based on [pyqtgraph](http://www.pyqtgraph.org/)\n",
    "* Zoom\n",
    "* Pan\n",
    "* Mulitple objects\n",
    "* Multiple plots\n",
    "* Contextual menu\n",
    "\n",
    "  <img src='spectral_analysis_mm/plot_context_menu.png' width='40%' />\n",
    "\n",
    "* Plot options\n",
    "\n",
    "  <img src='spectral_analysis_mm/plot_options.png' width='40%' />\n"
   ]
  },
  {
   "cell_type": "markdown",
   "metadata": {},
   "source": [
    "## Data Collections and Layers\n",
    "\n",
    "Data Collections is composed of an **originating spectrum** and a set of derived **layers**.\n",
    "\n",
    "Each layer is spectrum data copied from the originating spectrum, either in part or in whole.\n",
    "\n",
    "<img src='spectral_analysis_mm/layer.png' width='40%' />\n",
    "\n",
    "Layers can be removed:\n",
    "\n",
    "<img src='spectral_analysis_mm/layer_remove.png' width='40%' />\n",
    "\n",
    "Layers can be renamed. *Note: Keep the naming simple, as you would name a variable. Why? Because they ARE!*\n",
    "\n",
    "<img src='spectral_analysis_mm/layer_rename.png' width='40%' />\n",
    "\n",
    "The selecting a layer highlights its corresponding plot.\n",
    "\n",
    "<img src='spectral_analysis_mm/layer_highlight.png' widht='40%' />"
   ]
  },
  {
   "cell_type": "markdown",
   "metadata": {},
   "source": [
    "## Regions of Interest (ROI)\n",
    "* Creating\n",
    "\n",
    "<img src='spectral_analysis_mm/roi_create.png' width='40%' />\n",
    "\n",
    "<img src='spectral_analysis_mm/roi_example.png' width='40%' />\n",
    "\n",
    "* Moving/resize\n",
    "* Removing and other contextual menu items\n",
    "\n",
    "<img src='spectral_analysis_mm/roi_menu.png' width='40%' />\n",
    "\n",
    "* Multiple\n",
    "\n",
    "<img src='spectral_analysis_mm/roi_multiple.png' width='75%' />\\"
   ]
  },
  {
   "cell_type": "markdown",
   "metadata": {},
   "source": [
    "## Measurement\n",
    "* ROI-based.\n",
    "* Stats\n",
    "    <img src='spectral_analysis_mm/measurements.png' />\n",
    "    <img src='spectral_analysis_mm/measurement_info.png' />\n",
    "* Equivalent Width\n",
    "    <img src='spectral_analysis_mm/equiv_width.png' />\n",
    "    <img src='spectral_analysis_mm/equiv_width_result.png' />"
   ]
  },
  {
   "cell_type": "markdown",
   "metadata": {},
   "source": [
    "## Fitting\n"
   ]
  },
  {
   "cell_type": "markdown",
   "metadata": {},
   "source": [
    "An (overly) complicated example.\n",
    "<img src='spectral_analysis_mm/feature_selection.png' />\n",
    "<img src='spectral_analysis_mm/cont_selection.png' />\n",
    "<img src='spectral_analysis_mm/fit_create.png' />\n",
    "<img src='spectral_analysis_mm/fit_cont_setup.png' />\n",
    "<img src='spectral_analysis_mm/model_selection.png' />\n",
    "<img src='spectral_analysis_mm/model_detail.png' />\n",
    "<img src='spectral_analysis_mm/fit_cont_graph.png' />\n",
    "<img src='spectral_analysis_mm/fit_cont_result.png' />\n",
    "<img src='spectral_analysis_mm/console_start.png' />\n",
    "<img src='spectral_analysis_mm/console.png' />\n",
    "<img src='spectral_analysis_mm/console_use.png' />\n",
    "<img src='spectral_analysis_mm/fit_lorentz_init.png' />\n",
    "<img src='spectral_analysis_mm/fit_lorentz_done.png' />\n"
   ]
  },
  {
   "cell_type": "markdown",
   "metadata": {},
   "source": [
    "## From the python shell"
   ]
  },
  {
   "cell_type": "code",
   "execution_count": 2,
   "metadata": {
    "collapsed": true
   },
   "outputs": [],
   "source": [
    "from specview.main import SView\n",
    "%gui qt"
   ]
  },
  {
   "cell_type": "code",
   "execution_count": 3,
   "metadata": {
    "collapsed": true
   },
   "outputs": [],
   "source": [
    "sv = SView()"
   ]
  },
  {
   "cell_type": "code",
   "execution_count": 4,
   "metadata": {
    "collapsed": true
   },
   "outputs": [],
   "source": [
    "from specview.tools.preprocess import read_data"
   ]
  },
  {
   "cell_type": "code",
   "execution_count": 5,
   "metadata": {
    "collapsed": false
   },
   "outputs": [],
   "source": [
    "sv.create_display(sv.add_data_set(read_data('spectral_analysis_mm/SimulatedData_invert.fits', ext=1, flux='invert', dispersion='wavelength'), name='BasicData'))"
   ]
  },
  {
   "cell_type": "code",
   "execution_count": 6,
   "metadata": {
    "collapsed": false
   },
   "outputs": [
    {
     "data": {
      "text/plain": [
       "[(u'BasicData', <specview.core.data_objects.SpectrumData at 0x11a43e290>),\n",
       " (u'Layer_1', <specview.core.data_objects.SpectrumData at 0x11a481bd0>)]"
      ]
     },
     "execution_count": 6,
     "metadata": {},
     "output_type": "execute_result"
    }
   ],
   "source": [
    "list(sv.dc)"
   ]
  },
  {
   "cell_type": "code",
   "execution_count": 7,
   "metadata": {
    "collapsed": false
   },
   "outputs": [
    {
     "data": {
      "text/plain": [
       "['__class__',\n",
       " '__delattr__',\n",
       " '__dict__',\n",
       " '__doc__',\n",
       " '__format__',\n",
       " '__getattribute__',\n",
       " '__hash__',\n",
       " '__init__',\n",
       " '__module__',\n",
       " '__new__',\n",
       " '__reduce__',\n",
       " '__reduce_ex__',\n",
       " '__repr__',\n",
       " '__setattr__',\n",
       " '__sizeof__',\n",
       " '__str__',\n",
       " '__subclasshook__',\n",
       " '__weakref__',\n",
       " 'add',\n",
       " 'divide',\n",
       " 'eq_width',\n",
       " 'extract',\n",
       " 'multiply',\n",
       " 'namespace',\n",
       " 'stats',\n",
       " 'subtract',\n",
       " 'user_add',\n",
       " 'user_funny_add']"
      ]
     },
     "execution_count": 7,
     "metadata": {},
     "output_type": "execute_result"
    }
   ],
   "source": [
    "dir(sv.ops)"
   ]
  },
  {
   "cell_type": "code",
   "execution_count": 8,
   "metadata": {
    "collapsed": false
   },
   "outputs": [
    {
     "data": {
      "text/plain": [
       "{'mean': 7.4469829,\n",
       " 'median': 7.6303406,\n",
       " 'npoints': 200,\n",
       " 'stddev': 0.70849377,\n",
       " 'total': 1481.332}"
      ]
     },
     "execution_count": 8,
     "metadata": {},
     "output_type": "execute_result"
    }
   ],
   "source": [
    "sv.ops.stats(sv.dc['BasicData'])"
   ]
  },
  {
   "cell_type": "code",
   "execution_count": 9,
   "metadata": {
    "collapsed": false
   },
   "outputs": [
    {
     "data": {
      "text/plain": [
       "{'mean': 7.4469829,\n",
       " 'median': 7.6303406,\n",
       " 'npoints': 200,\n",
       " 'stddev': 0.70849377,\n",
       " 'total': 1481.332}"
      ]
     },
     "execution_count": 9,
     "metadata": {},
     "output_type": "execute_result"
    }
   ],
   "source": [
    "sv.ops.stats(sv.dc['Layer_1'])"
   ]
  },
  {
   "cell_type": "code",
   "execution_count": 10,
   "metadata": {
    "collapsed": false
   },
   "outputs": [
    {
     "data": {
      "text/plain": [
       "[Entry(name='stats', func=<function stats at 0x11326db18>, args=(<specview.core.data_objects.SpectrumData object at 0x11a43e290>,), kwargs={}, result={'npoints': 200, 'total': 1481.332, 'median': 7.6303406, 'stddev': 0.70849377, 'mean': 7.4469829}),\n",
       " Entry(name='stats', func=<function stats at 0x11326db18>, args=(<specview.core.data_objects.SpectrumData object at 0x11a481bd0>,), kwargs={}, result={'npoints': 200, 'total': 1481.332, 'median': 7.6303406, 'stddev': 0.70849377, 'mean': 7.4469829})]"
      ]
     },
     "execution_count": 10,
     "metadata": {},
     "output_type": "execute_result"
    }
   ],
   "source": [
    "sv.log"
   ]
  },
  {
   "cell_type": "markdown",
   "metadata": {},
   "source": [
    "Now do the equivalent width measurement..."
   ]
  },
  {
   "cell_type": "code",
   "execution_count": 11,
   "metadata": {
    "collapsed": false
   },
   "outputs": [
    {
     "data": {
      "text/plain": [
       "Entry(name='eq_width', func=<function eq_width at 0x11326db90>, args=({'npoints': 52, 'total': 367.34537, 'median': 7.1702423, 'stddev': 0.23159751, 'mean': 7.208468}, {'npoints': 28, 'total': 214.95052, 'median': 7.9610829, 'stddev': 0.19126016, 'mean': 7.9635825}, <specview.core.data_objects.SpectrumData object at 0x11a720f50>), kwargs={}, result=(-0.46540368, 0.061350141))"
      ]
     },
     "execution_count": 11,
     "metadata": {},
     "output_type": "execute_result"
    }
   ],
   "source": [
    "sv.log[-1]"
   ]
  },
  {
   "cell_type": "code",
   "execution_count": null,
   "metadata": {
    "collapsed": true
   },
   "outputs": [],
   "source": []
  }
 ],
 "metadata": {
  "kernelspec": {
   "display_name": "Python 2",
   "language": "python",
   "name": "python2"
  },
  "language_info": {
   "codemirror_mode": {
    "name": "ipython",
    "version": 2
   },
   "file_extension": ".py",
   "mimetype": "text/x-python",
   "name": "python",
   "nbconvert_exporter": "python",
   "pygments_lexer": "ipython2",
   "version": "2.7.9"
  }
 },
 "nbformat": 4,
 "nbformat_minor": 0
}
