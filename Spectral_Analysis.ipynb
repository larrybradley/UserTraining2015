{
 "cells": [
  {
   "cell_type": "markdown",
   "metadata": {},
   "source": [
    "## Abstract"
   ]
  },
  {
   "cell_type": "markdown",
   "metadata": {},
   "source": [
    "Introduction to spectral analysis: Results of the first JWST Data Analysis Sprint.\n",
    "\n",
    "This is an early start on formalizing the toolset needed for spectral analysis, leveraging both the interativity of the python shell and the integration of the Qt toolset within python."
   ]
  },
  {
   "cell_type": "markdown",
   "metadata": {},
   "source": [
    "## Environment"
   ]
  },
  {
   "cell_type": "markdown",
   "metadata": {},
   "source": [
    "To use the standalone app:"
   ]
  },
  {
   "cell_type": "code",
   "execution_count": 1,
   "metadata": {
    "collapsed": false
   },
   "outputs": [
    {
     "name": "stdout",
     "output_type": "stream",
     "text": [
      "Starting job # 0 in a separate thread.\n"
     ]
    }
   ],
   "source": [
    "%%bash --bg\n",
    "sview"
   ]
  },
  {
   "cell_type": "markdown",
   "metadata": {},
   "source": [
    "Initial screen will look like:\n",
    "\n",
    "<img src='spectral_analysis_mm/initial_screen.png' />\n",
    "\n",
    "Components:\n",
    "* Workspace\n",
    "* Data manager\n",
    "* There will be more momentarily"
   ]
  },
  {
   "cell_type": "markdown",
   "metadata": {},
   "source": [
    "## Reading Files\n",
    "### The dialogs\n",
    "<img src='spectral_analysis_mm/open_file_menu.png' />\n",
    "<img src='spectral_analysis_mm/open_file_dialog.png' />\n",
    "<img src='spectral_analysis_mm/open_file_fits_dialog.png' />\n",
    "<img src='spectral_analysis_mm/open_file_fits_dialog_column.png' />\n",
    "\n",
    "### The Data Dock\n",
    "<img src='spectral_analysis_mm/data_dock.png' />\n",
    "<img src='spectral_analysis_mm/data_dock_create_plot.png'/>\n",
    "<img src='spectral_analysis_mm/plot.png' />"
   ]
  },
  {
   "cell_type": "markdown",
   "metadata": {},
   "source": [
    "## Moving around\n",
    "* Based on [pyqtgraph](http://www.pyqtgraph.org/)\n",
    "* Zoom\n",
    "* Pan\n",
    "* Mulitple objects\n",
    "* Multiple plots\n",
    "* Contextual menu\n",
    "  <img src='spectral_analysis_mm/plot_context_menu.png' />\n",
    "* Plot options\n",
    "  <img src='spectral_analysis_mm/plot_options.png' />\n"
   ]
  },
  {
   "cell_type": "markdown",
   "metadata": {},
   "source": [
    "## Regions of Interest (ROI)\n",
    "* Creating\n",
    "    <img src='spectral_analysis_mm/roi_create.png' />\n",
    "    <img src='spectral_analysis_mm/roi_example.png' />\n",
    "* Moving\n",
    "* Removing\n",
    "* Multiple: see later"
   ]
  },
  {
   "cell_type": "markdown",
   "metadata": {},
   "source": [
    "## Measurement\n",
    "* ROI-based.\n",
    "* Stats\n",
    "    <img src='spectral_analysis_mm/measurements.png' />\n",
    "    <img src='spectral_analysis_mm/measurement_info.png' />\n",
    "* Equivalent Width\n",
    "    <img src='spectral_analysis_mm/equiv_width.png' />\n",
    "    <img src='spectral_analysis_mm/equiv_width_result.png' />"
   ]
  },
  {
   "cell_type": "markdown",
   "metadata": {},
   "source": [
    "## Fitting\n"
   ]
  },
  {
   "cell_type": "markdown",
   "metadata": {},
   "source": [
    "An (overly) complicated example.\n",
    "<img src='spectral_analysis_mm/feature_selection.png' />\n",
    "<img src='spectral_analysis_mm/cont_selection.png' />\n",
    "<img src='spectral_analysis_mm/fit_create.png' />\n",
    "<img src='spectral_analysis_mm/fit_cont_setup.png' />\n",
    "<img src='spectral_analysis_mm/model_selection.png' />\n",
    "<img src='spectral_analysis_mm/model_detail.png' />\n",
    "<img src='spectral_analysis_mm/fit_cont_graph.png' />\n",
    "<img src='spectral_analysis_mm/fit_cont_result.png' />\n",
    "<img src='spectral_analysis_mm/console_start.png' />\n",
    "<img src='spectral_analysis_mm/console.png' />\n",
    "<img src='spectral_analysis_mm/console_use.png' />\n",
    "<img src='spectral_analysis_mm/fit_lorentz_init.png' />\n",
    "<img src='spectral_analysis_mm/fit_lorentz_done.png' />\n"
   ]
  },
  {
   "cell_type": "markdown",
   "metadata": {},
   "source": [
    "## From the python shell"
   ]
  },
  {
   "cell_type": "code",
   "execution_count": 1,
   "metadata": {
    "collapsed": true
   },
   "outputs": [],
   "source": [
    "%gui qt"
   ]
  },
  {
   "cell_type": "code",
   "execution_count": 2,
   "metadata": {
    "collapsed": false
   },
   "outputs": [
    {
     "name": "stdout",
     "output_type": "stream",
     "text": [
      "Warning: QApplication was created before pyqtgraph was imported; there may be problems (to avoid bugs, call QApplication.setGraphicsSystem(\"raster\") before the QApplication is created).\n"
     ]
    }
   ],
   "source": [
    "from specview.main import SView"
   ]
  },
  {
   "cell_type": "code",
   "execution_count": 3,
   "metadata": {
    "collapsed": true
   },
   "outputs": [],
   "source": [
    "sv = SView()"
   ]
  },
  {
   "cell_type": "code",
   "execution_count": 4,
   "metadata": {
    "collapsed": true
   },
   "outputs": [],
   "source": [
    "from specview.tools.preprocess import read_data"
   ]
  },
  {
   "cell_type": "code",
   "execution_count": 11,
   "metadata": {
    "collapsed": false
   },
   "outputs": [],
   "source": [
    "sv.create_display(sv.add_data_set(read_data('spectral_analysis_mm/SimulatedData_invert.fits', ext=1, flux='invert', dispersion='wavelength'), name='BasicData'))"
   ]
  },
  {
   "cell_type": "code",
   "execution_count": 12,
   "metadata": {
    "collapsed": false
   },
   "outputs": [
    {
     "data": {
      "text/plain": [
       "[(u'BasicData', <specview.core.data_objects.SpectrumData at 0x107055f10>),\n",
       " (u'Layer_1', <specview.core.data_objects.SpectrumData at 0x107055cd0>)]"
      ]
     },
     "execution_count": 12,
     "metadata": {},
     "output_type": "execute_result"
    }
   ],
   "source": [
    "list(sv.dc)"
   ]
  },
  {
   "cell_type": "code",
   "execution_count": 13,
   "metadata": {
    "collapsed": false
   },
   "outputs": [
    {
     "data": {
      "text/plain": [
       "['__class__',\n",
       " '__delattr__',\n",
       " '__dict__',\n",
       " '__doc__',\n",
       " '__format__',\n",
       " '__getattribute__',\n",
       " '__hash__',\n",
       " '__init__',\n",
       " '__module__',\n",
       " '__new__',\n",
       " '__reduce__',\n",
       " '__reduce_ex__',\n",
       " '__repr__',\n",
       " '__setattr__',\n",
       " '__sizeof__',\n",
       " '__str__',\n",
       " '__subclasshook__',\n",
       " '__weakref__',\n",
       " 'add',\n",
       " 'divide',\n",
       " 'eq_width',\n",
       " 'extract',\n",
       " 'multiply',\n",
       " 'namespace',\n",
       " 'stats',\n",
       " 'subtract',\n",
       " 'user_add',\n",
       " 'user_funny_add']"
      ]
     },
     "execution_count": 13,
     "metadata": {},
     "output_type": "execute_result"
    }
   ],
   "source": [
    "dir(sv.ops)"
   ]
  },
  {
   "cell_type": "code",
   "execution_count": 14,
   "metadata": {
    "collapsed": false
   },
   "outputs": [
    {
     "data": {
      "text/plain": [
       "{'mean': 7.4469829,\n",
       " 'median': 7.6303406,\n",
       " 'npoints': 200,\n",
       " 'stddev': 0.70849377,\n",
       " 'total': 1481.332}"
      ]
     },
     "execution_count": 14,
     "metadata": {},
     "output_type": "execute_result"
    }
   ],
   "source": [
    "sv.ops.stats(sv.dc['BasicData'])"
   ]
  },
  {
   "cell_type": "code",
   "execution_count": 16,
   "metadata": {
    "collapsed": false
   },
   "outputs": [
    {
     "data": {
      "text/plain": [
       "{'mean': 7.4469829,\n",
       " 'median': 7.6303406,\n",
       " 'npoints': 200,\n",
       " 'stddev': 0.70849377,\n",
       " 'total': 1481.332}"
      ]
     },
     "execution_count": 16,
     "metadata": {},
     "output_type": "execute_result"
    }
   ],
   "source": [
    "sv.ops.stats(sv.dc['Layer_1'])"
   ]
  },
  {
   "cell_type": "code",
   "execution_count": 17,
   "metadata": {
    "collapsed": false
   },
   "outputs": [
    {
     "data": {
      "text/plain": [
       "[Entry(name='stats', func=<function stats at 0x10c91b6e0>, args=(<specview.core.data_objects.SpectrumData object at 0x107055f10>,), kwargs={}, result={'npoints': 200, 'total': 1481.332, 'median': 7.6303406, 'stddev': 0.70849377, 'mean': 7.4469829}),\n",
       " Entry(name='stats', func=<function stats at 0x10c91b6e0>, args=(<specview.core.data_objects.SpectrumData object at 0x107055cd0>,), kwargs={}, result={'npoints': 200, 'total': 1481.332, 'median': 7.6303406, 'stddev': 0.70849377, 'mean': 7.4469829})]"
      ]
     },
     "execution_count": 17,
     "metadata": {},
     "output_type": "execute_result"
    }
   ],
   "source": [
    "sv.log"
   ]
  },
  {
   "cell_type": "markdown",
   "metadata": {},
   "source": [
    "Now do the equivalent width measurement..."
   ]
  },
  {
   "cell_type": "code",
   "execution_count": 19,
   "metadata": {
    "collapsed": false
   },
   "outputs": [
    {
     "data": {
      "text/plain": [
       "Entry(name='eq_width', func=<function eq_width at 0x10c91b758>, args=({'npoints': 53, 'total': 375.44199, 'median': 7.1757526, 'stddev': 0.2526443, 'mean': 7.2184205}, {'npoints': 27, 'total': 207.14209, 'median': 7.96525, 'stddev': 0.19302845, 'mean': 7.9684935}, <specview.core.data_objects.SpectrumData object at 0x10e5d7790>), kwargs={}, result=(-0.46608037, 0.061379224))"
      ]
     },
     "execution_count": 19,
     "metadata": {},
     "output_type": "execute_result"
    }
   ],
   "source": [
    "sv.log[-1]"
   ]
  },
  {
   "cell_type": "code",
   "execution_count": null,
   "metadata": {
    "collapsed": true
   },
   "outputs": [],
   "source": []
  }
 ],
 "metadata": {
  "kernelspec": {
   "display_name": "Python 2",
   "language": "python",
   "name": "python2"
  },
  "language_info": {
   "codemirror_mode": {
    "name": "ipython",
    "version": 2
   },
   "file_extension": ".py",
   "mimetype": "text/x-python",
   "name": "python",
   "nbconvert_exporter": "python",
   "pygments_lexer": "ipython2",
   "version": "2.7.9"
  }
 },
 "nbformat": 4,
 "nbformat_minor": 0
}
